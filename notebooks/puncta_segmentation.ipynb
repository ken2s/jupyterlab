{
 "cells": [
  {
   "cell_type": "markdown",
   "metadata": {},
   "source": [
    "PyImageJ Tutorial\n",
    "===\n",
    "\n",
    "This notebook covers how to use ImageJ as a library from Python. A major advantage of this approach is the ability to combine ImageJ with other tools available from the Python software ecosystem, including NumPy, SciPy, scikit-image, CellProfiler, OpenCV, ITK and more.\n",
    "\n",
    "This notebook assumes familiarity with the ImageJ API. Detailed tutorials in that regard can be found in the other notebooks."
   ]
  },
  {
   "cell_type": "code",
   "execution_count": null,
   "metadata": {},
   "outputs": [],
   "source": [
    "import imagej\n",
    "import scyjava as sj\n",
    "# import tooled as t\n",
    "\n",
    "# initialize imagej\n",
    "ij = imagej.init(mode='headless', add_legacy=True)\n",
    "print(f\"ImageJ version: {ij.getVersion()}\")\n",
    "\n",
    "# get additional resources\n",
    "HyperSphereShape = sj.jimport('net.imglib2.algorithm.neighborhood.HyperSphereShape')\n",
    "Overlay = sj.jimport('ij.gui.Overlay')\n",
    "Table = sj.jimport('org.scijava.table.Table')\n",
    "ParticleAnalyzer = sj.jimport('ij.plugin.filter.ParticleAnalyzer')"
   ]
  },
  {
   "cell_type": "code",
   "execution_count": null,
   "metadata": {},
   "outputs": [],
   "source": [
    "# load test data\n",
    "ds_src = ij.io().open('https://raw.githubusercontent.com/imagej/pyimagej/master/doc/sample-data/test_still.tif')\n",
    "ds_src = ij.op().convert().int32(ds_src) # convert image to 32-bit\n",
    "ij.py.show(ds_src, cmap='binary')"
   ]
  },
  {
   "cell_type": "code",
   "execution_count": null,
   "metadata": {},
   "outputs": [],
   "source": [
    "# supress background\n",
    "mean_radius = HyperSphereShape(5)\n",
    "ds_mean = ij.dataset().create(ds_src.copy())\n",
    "ij.op().filter().mean(ds_mean, ds_src.copy(), mean_radius)\n",
    "ds_mul = ds_src * ds_mean\n",
    "ij.py.show(ds_mul, cmap='binary')"
   ]
  },
  {
   "cell_type": "code",
   "execution_count": null,
   "metadata": {},
   "outputs": [],
   "source": [
    "# use gaussian subtraction to enhance puncta\n",
    "img_blur = ij.op().filter().gauss(ds_mul.copy(), 1.2)\n",
    "#img_enhanced = img_blur - ds_mul\n",
    "img_enhanced = ds_mul - img_blur\n",
    "ij.py.show(img_enhanced, cmap='binary')"
   ]
  },
  {
   "cell_type": "code",
   "execution_count": null,
   "metadata": {},
   "outputs": [],
   "source": [
    "# apply threshold\n",
    "img_thres = ij.op().threshold().renyiEntropy(img_enhanced)\n",
    "ij.py.show(img_thres)"
   ]
  },
  {
   "cell_type": "code",
   "execution_count": null,
   "metadata": {},
   "outputs": [],
   "source": [
    "# convert ImgPlus to ImagePlus\n",
    "imp_thres = ij.py.to_imageplus(img_thres)"
   ]
  },
  {
   "cell_type": "code",
   "execution_count": null,
   "metadata": {},
   "outputs": [],
   "source": [
    "# get ResultsTable and set ParticleAnalyzer\n",
    "rt = ij.ResultsTable.getResultsTable()\n",
    "ParticleAnalyzer.setResultsTable(rt)"
   ]
  },
  {
   "cell_type": "code",
   "execution_count": null,
   "metadata": {},
   "outputs": [],
   "source": [
    "# set measurements\n",
    "ij.IJ.run(\"Set Measurements...\", \"area integrated\")"
   ]
  },
  {
   "cell_type": "code",
   "execution_count": null,
   "metadata": {},
   "outputs": [],
   "source": [
    "# run the analyze particle plugin\n",
    "ij.py.run_plugin(plugin=\"Analyze Particles...\", args=\"clear\", imp=imp_thres)"
   ]
  },
  {
   "cell_type": "code",
   "execution_count": null,
   "metadata": {},
   "outputs": [],
   "source": [
    "# convert results table -> scijava table -> pandas dataframe\n",
    "sci_table = ij.convert().convert(rt, Table)\n",
    "df = ij.py.from_java(sci_table)"
   ]
  },
  {
   "cell_type": "markdown",
   "metadata": {
    "tags": []
   },
   "source": [
    "``` \n",
    "# convert ImgPlus to ImagePlus\n",
    "imp_thres = ij.py.to_imageplus(img_thres)\n",
    "\n",
    "# get ResultsTable and set ParticleAnalyzer\n",
    "rt = ij.ResultsTable.getResultsTable()\n",
    "ParticleAnalyzer.setResultsTable(rt)\n",
    "\n",
    "# set measurements\n",
    "ij.IJ.run(\"Set Measurements...\", \"area integrated\")\n",
    "\n",
    "# run the analyze particle plugin\n",
    "ij.py.run_plugin(plugin=\"Analyze Particles...\", args=\"clear\", imp=imp_thres)\n",
    "\n",
    "# convert results table -> scijava table -> pandas dataframe\n",
    "sci_table = ij.convert().convert(rt, Table)\n",
    "df = ij.py.from_java(sci_table)\n",
    "```"
   ]
  },
  {
   "cell_type": "code",
   "execution_count": null,
   "metadata": {},
   "outputs": [],
   "source": [
    "print(df)"
   ]
  },
  {
   "cell_type": "code",
   "execution_count": null,
   "metadata": {},
   "outputs": [],
   "source": []
  }
 ],
 "metadata": {
  "interpreter": {
   "hash": "ffb7cfab4b775ee54ab00d6ea209daa40cc054b7bb58fbad3b74bb1492b78b3c"
  },
  "kernelspec": {
   "display_name": "Python 3 (ipykernel)",
   "language": "python",
   "name": "python3"
  },
  "language_info": {
   "codemirror_mode": {
    "name": "ipython",
    "version": 3
   },
   "file_extension": ".py",
   "mimetype": "text/x-python",
   "name": "python",
   "nbconvert_exporter": "python",
   "pygments_lexer": "ipython3",
   "version": "3.10.4"
  }
 },
 "nbformat": 4,
 "nbformat_minor": 4
}
