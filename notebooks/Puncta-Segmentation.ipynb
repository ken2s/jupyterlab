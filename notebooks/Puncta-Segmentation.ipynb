{
 "cells": [
  {
   "cell_type": "markdown",
   "metadata": {},
   "source": [
    "Puncta Segmentation\n",
    "===\n",
    "\n",
    "This notebook demonstrates how to segment puncta from an image using the “Analyze Particles” ImageJ plugin, perform measurements and return those values as a pandas `DataFrame`.\n",
    "\n",
    "First let's initialize ImageJ in headless mode with the legacy layer enabled. See [How to initialize PyImageJ](Initialization.md) for more information on PyImageJ's initialization modes."
   ]
  },
  {
   "cell_type": "code",
   "execution_count": null,
   "metadata": {},
   "outputs": [],
   "source": [
    "import imagej\n",
    "import scyjava as sj\n",
    "\n",
    "# initialize imagej\n",
    "ij = imagej.init(mode='headless', add_legacy=True)\n",
    "print(f\"ImageJ version: {ij.getVersion()}\")"
   ]
  },
  {
   "cell_type": "markdown",
   "metadata": {},
   "source": [
    "Now that ImageJ has been successfully initialized, lets next import the Java classes (_i.e._ ImageJ resources) we need for the rest of the workflow."
   ]
  },
  {
   "cell_type": "code",
   "execution_count": null,
   "metadata": {},
   "outputs": [],
   "source": [
    "# get additional resources\n",
    "HyperSphereShape = sj.jimport('net.imglib2.algorithm.neighborhood.HyperSphereShape')\n",
    "Overlay = sj.jimport('ij.gui.Overlay')\n",
    "Table = sj.jimport('org.scijava.table.Table')\n",
    "ParticleAnalyzer = sj.jimport('ij.plugin.filter.ParticleAnalyzer')"
   ]
  },
  {
   "cell_type": "markdown",
   "metadata": {},
   "source": [
    "Next we load the data with `ij.io().open()` and then convert the 16-bit image to 32-bit with ImageJ ops (_i.e._ `ij.op().convert().int32()`). Alternatively you can load the data using other software packages such as scikit-image's `skimage.io.imread()` which returns a NumPy array. To convert the NumPy array into an ImageJ Java image (_e.g._ a Dataset: `net.imagej.Dataset`) call `ij.py.to_dataset()`."
   ]
  },
  {
   "cell_type": "code",
   "execution_count": null,
   "metadata": {},
   "outputs": [],
   "source": [
    "# load test data\n",
    "# ds_src = ij.io().open('./test_still.tif')\n",
    "ds_src = ij.io().open('https://raw.githubusercontent.com/imagej/pyimagej/master/doc/sample-data/test_still.tif')\n",
    "ds_src = ij.op().convert().int32(ds_src) # convert image to 32-bit\n",
    "ij.py.show(ds_src, cmap='binary')"
   ]
  },
  {
   "cell_type": "markdown",
   "metadata": {},
   "source": [
    "There are many ways to background subtract/supress noise in an image. In this example we take a duplicate of the input image, here `ds_mean`, apply a mean filter with a radius of `5` and then multiply it back to the original image. The trick to this operation improving the signal-to-noise ratio lies in the application of the mean filter. In the background area outside of the cell high value pixels are generally intermixed with low value ones. In contrast the high value pixels in the object of interest are surrounded by high value ones. When the mean filter is applied, the high value pixels in the background are averaged with low values and high values pixels in the object are averaged with other high value pixels. When this mean filtered image is multiplied with the original image, the background noise is multiplied by a “smaller” number than the objects/signal of interest. Note that these are destructive changes and the resulting background supressed image is not sutible for measurements. Instead, these processes are done to generate masks and labels which can then be applied over the original data to obtain measurements that are unmodified.\n",
    "\n",
    "Here we are using ImageJ ops to apply the mean filter. You can also apply the filter using `ij.py.run_plugin(imp, \"Mean...\", \"radius=2\")`. Note that using the original ImageJ plugins/functions like \"Mean...\" require the `ImagePlus` image data type. In this case we can convert the `ds_mean` into an `ImagePlus` like so:\n",
    "\n",
    "```python\n",
    "imp = ij.py.to_imageplus(ds_mean)\n",
    "```"
   ]
  },
  {
   "cell_type": "code",
   "execution_count": null,
   "metadata": {},
   "outputs": [],
   "source": [
    "# supress background noise\n",
    "mean_radius = HyperSphereShape(5)\n",
    "ds_mean = ij.dataset().create(ds_src.copy())\n",
    "ij.op().filter().mean(ds_mean, ds_src.copy(), mean_radius)\n",
    "ds_mul = ds_src * ds_mean\n",
    "ij.py.show(ds_mul, cmap='binary')"
   ]
  },
  {
   "cell_type": "markdown",
   "metadata": {},
   "source": [
    "Here we employ a gaussian blur subtraction to futher enhance the puncta for segmentation. For more information on gaussian blurs and how they can be used in image processing please checkout [Peter Bankhead's amazing online book](https://petebankhead.gitbooks.io/imagej-intro/content/chapters/filters/filters.html)."
   ]
  },
  {
   "cell_type": "code",
   "execution_count": null,
   "metadata": {},
   "outputs": [],
   "source": [
    "# use gaussian subtraction to enhance puncta\n",
    "img_blur = ij.op().filter().gauss(ds_mul.copy(), 1.2)\n",
    "img_enhanced = ds_mul - img_blur\n",
    "ij.py.show(img_enhanced, cmap='binary')"
   ]
  },
  {
   "cell_type": "code",
   "execution_count": null,
   "metadata": {},
   "outputs": [],
   "source": [
    "# apply threshold\n",
    "img_thres = ij.op().threshold().renyiEntropy(img_enhanced)\n",
    "ij.py.show(img_thres)"
   ]
  },
  {
   "cell_type": "markdown",
   "metadata": {},
   "source": [
    "Finally we convert the threshold image into an `ImagePlus` with `ij.py.to_imageplus()` and run the \"Analyze Particles\" plugin. The `ResultsTable` that is returned by the \"Analyze Particles\" plugin first needs to be converted to a SciJava table (_i.e._ `org.scijava.table.Table`) before it can be converted to a pandas DataFrame."
   ]
  },
  {
   "cell_type": "code",
   "execution_count": null,
   "metadata": {},
   "outputs": [],
   "source": [
    "# convert ImgPlus to ImagePlus\n",
    "imp_thres = ij.py.to_imageplus(img_thres)\n",
    "\n",
    "# get ResultsTable and set ParticleAnalyzer\n",
    "rt = ij.ResultsTable.getResultsTable()\n",
    "ParticleAnalyzer.setResultsTable(rt)\n",
    "\n",
    "# set measurements\n",
    "ij.IJ.run(\"Set Measurements...\", \"area center shape\")\n",
    "\n",
    "# run the analyze particle plugin\n",
    "ij.py.run_plugin(plugin=\"Analyze Particles...\", args=\"clear\", imp=imp_thres)\n",
    "\n",
    "# convert results table -> scijava table -> pandas dataframe\n",
    "sci_table = ij.convert().convert(rt, Table)\n",
    "df = ij.py.from_java(sci_table)\n",
    "\n",
    "# print dataframe\n",
    "print(df)"
   ]
  }
 ],
 "metadata": {
  "interpreter": {
   "hash": "ffb7cfab4b775ee54ab00d6ea209daa40cc054b7bb58fbad3b74bb1492b78b3c"
  },
  "kernelspec": {
   "display_name": "Python 3 (ipykernel)",
   "language": "python",
   "name": "python3"
  },
  "language_info": {
   "codemirror_mode": {
    "name": "ipython",
    "version": 3
   },
   "file_extension": ".py",
   "mimetype": "text/x-python",
   "name": "python",
   "nbconvert_exporter": "python",
   "pygments_lexer": "ipython3",
   "version": "3.10.4"
  }
 },
 "nbformat": 4,
 "nbformat_minor": 4
}
