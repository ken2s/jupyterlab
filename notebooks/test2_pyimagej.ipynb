{
 "cells": [
  {
   "cell_type": "code",
   "execution_count": null,
   "id": "924160ac-e104-402e-9641-e20eaae3fb9b",
   "metadata": {},
   "outputs": [],
   "source": [
    "# Create an ImageJ2 gateway with the newest available version of ImageJ2.\n",
    "import imagej\n",
    "import scyjava\n",
    "plugins_dir = '/opt/Fiji.app/plugins'\n",
    "scyjava.config.add_option(f'-Dplugins.dir={plugins_dir}')\n",
    "ij = imagej.init('/opt/Fiji.app')"
   ]
  },
  {
   "cell_type": "code",
   "execution_count": null,
   "id": "6fceff82-3844-451a-8adb-b289526a88fb",
   "metadata": {},
   "outputs": [],
   "source": [
    "# Load an image.\n",
    "image_url = '/notebooks/test.png'\n",
    "jimage = ij.io().open(image_url)"
   ]
  },
  {
   "cell_type": "code",
   "execution_count": null,
   "id": "84f7271f-c913-46c6-8423-4fa6e6a41344",
   "metadata": {},
   "outputs": [],
   "source": [
    "# Convert the image from ImageJ2 to xarray, a package that adds\n",
    "# labeled datasets to numpy (http://xarray.pydata.org/en/stable/).\n",
    "image = ij.py.from_java(jimage)"
   ]
  },
  {
   "cell_type": "code",
   "execution_count": null,
   "id": "38586c01-b1d9-4938-8ff2-bb794e63586c",
   "metadata": {},
   "outputs": [],
   "source": [
    "# Display the image (backed by matplotlib).\n",
    "ij.py.show(image)"
   ]
  }
 ],
 "metadata": {
  "kernelspec": {
   "display_name": "Python 3 (ipykernel)",
   "language": "python",
   "name": "python3"
  },
  "language_info": {
   "codemirror_mode": {
    "name": "ipython",
    "version": 3
   },
   "file_extension": ".py",
   "mimetype": "text/x-python",
   "name": "python",
   "nbconvert_exporter": "python",
   "pygments_lexer": "ipython3",
   "version": "3.10.4"
  }
 },
 "nbformat": 4,
 "nbformat_minor": 5
}
